{
 "cells": [
  {
   "cell_type": "code",
   "execution_count": 1,
   "id": "9faa10e2-fb7d-47d7-ad16-0e69e5f39a6f",
   "metadata": {},
   "outputs": [],
   "source": [
    "import pandas as pd\n",
    "import matplotlib.pyplot as plt\n",
    "import seaborn as sns\n",
    "import numpy as np\n",
    "from sklearn.preprocessing import LabelEncoder"
   ]
  },
  {
   "cell_type": "code",
   "execution_count": 2,
   "id": "8c58a826-5d46-4358-896d-50311a60d1ec",
   "metadata": {},
   "outputs": [
    {
     "data": {
      "text/html": [
       "<div>\n",
       "<style scoped>\n",
       "    .dataframe tbody tr th:only-of-type {\n",
       "        vertical-align: middle;\n",
       "    }\n",
       "\n",
       "    .dataframe tbody tr th {\n",
       "        vertical-align: top;\n",
       "    }\n",
       "\n",
       "    .dataframe thead th {\n",
       "        text-align: right;\n",
       "    }\n",
       "</style>\n",
       "<table border=\"1\" class=\"dataframe\">\n",
       "  <thead>\n",
       "    <tr style=\"text-align: right;\">\n",
       "      <th></th>\n",
       "      <th>Car_Name</th>\n",
       "      <th>Year</th>\n",
       "      <th>Present_Price</th>\n",
       "      <th>Kms_Driven</th>\n",
       "      <th>Fuel_Type</th>\n",
       "      <th>Seller_Type</th>\n",
       "      <th>Transmission</th>\n",
       "      <th>Owner</th>\n",
       "      <th>Selling_Price</th>\n",
       "    </tr>\n",
       "  </thead>\n",
       "  <tbody>\n",
       "    <tr>\n",
       "      <th>0</th>\n",
       "      <td>ritz</td>\n",
       "      <td>2014</td>\n",
       "      <td>5.59</td>\n",
       "      <td>27000</td>\n",
       "      <td>Petrol</td>\n",
       "      <td>Dealer</td>\n",
       "      <td>Manual</td>\n",
       "      <td>0</td>\n",
       "      <td>3.35</td>\n",
       "    </tr>\n",
       "    <tr>\n",
       "      <th>1</th>\n",
       "      <td>sx4</td>\n",
       "      <td>2013</td>\n",
       "      <td>9.54</td>\n",
       "      <td>43000</td>\n",
       "      <td>Diesel</td>\n",
       "      <td>Dealer</td>\n",
       "      <td>Manual</td>\n",
       "      <td>0</td>\n",
       "      <td>4.75</td>\n",
       "    </tr>\n",
       "  </tbody>\n",
       "</table>\n",
       "</div>"
      ],
      "text/plain": [
       "  Car_Name  Year  Present_Price  Kms_Driven Fuel_Type Seller_Type  \\\n",
       "0     ritz  2014           5.59       27000    Petrol      Dealer   \n",
       "1      sx4  2013           9.54       43000    Diesel      Dealer   \n",
       "\n",
       "  Transmission  Owner  Selling_Price  \n",
       "0       Manual      0           3.35  \n",
       "1       Manual      0           4.75  "
      ]
     },
     "execution_count": 2,
     "metadata": {},
     "output_type": "execute_result"
    }
   ],
   "source": [
    "dataset = pd.read_csv('Oldcar_dataset.csv')\n",
    "dataset.head(2)"
   ]
  },
  {
   "cell_type": "code",
   "execution_count": 3,
   "id": "4568c141-15ca-4e6b-88bc-33ef167e6c25",
   "metadata": {},
   "outputs": [
    {
     "data": {
      "text/plain": [
       "Car_Name         0\n",
       "Year             0\n",
       "Present_Price    0\n",
       "Kms_Driven       0\n",
       "Fuel_Type        0\n",
       "Seller_Type      0\n",
       "Transmission     0\n",
       "Owner            0\n",
       "Selling_Price    0\n",
       "dtype: int64"
      ]
     },
     "execution_count": 3,
     "metadata": {},
     "output_type": "execute_result"
    }
   ],
   "source": [
    "dataset.isnull().sum()"
   ]
  },
  {
   "cell_type": "code",
   "execution_count": 4,
   "id": "5b205fbe-5e0a-406d-96aa-4a9e0637f95f",
   "metadata": {},
   "outputs": [
    {
     "name": "stdout",
     "output_type": "stream",
     "text": [
      "<class 'pandas.core.frame.DataFrame'>\n",
      "RangeIndex: 200 entries, 0 to 199\n",
      "Data columns (total 9 columns):\n",
      " #   Column         Non-Null Count  Dtype  \n",
      "---  ------         --------------  -----  \n",
      " 0   Car_Name       200 non-null    object \n",
      " 1   Year           200 non-null    int64  \n",
      " 2   Present_Price  200 non-null    float64\n",
      " 3   Kms_Driven     200 non-null    int64  \n",
      " 4   Fuel_Type      200 non-null    object \n",
      " 5   Seller_Type    200 non-null    object \n",
      " 6   Transmission   200 non-null    object \n",
      " 7   Owner          200 non-null    int64  \n",
      " 8   Selling_Price  200 non-null    float64\n",
      "dtypes: float64(2), int64(3), object(4)\n",
      "memory usage: 14.2+ KB\n"
     ]
    }
   ],
   "source": [
    "dataset.info()"
   ]
  },
  {
   "cell_type": "code",
   "execution_count": null,
   "id": "112ce739-7c31-4943-b523-f37ba02dff5f",
   "metadata": {},
   "outputs": [],
   "source": []
  },
  {
   "cell_type": "code",
   "execution_count": 5,
   "id": "4d4b1ac8-f73d-4a20-9b72-d4a1865644c5",
   "metadata": {},
   "outputs": [
    {
     "data": {
      "text/html": [
       "<div>\n",
       "<style scoped>\n",
       "    .dataframe tbody tr th:only-of-type {\n",
       "        vertical-align: middle;\n",
       "    }\n",
       "\n",
       "    .dataframe tbody tr th {\n",
       "        vertical-align: top;\n",
       "    }\n",
       "\n",
       "    .dataframe thead th {\n",
       "        text-align: right;\n",
       "    }\n",
       "</style>\n",
       "<table border=\"1\" class=\"dataframe\">\n",
       "  <thead>\n",
       "    <tr style=\"text-align: right;\">\n",
       "      <th></th>\n",
       "      <th>Car_Name</th>\n",
       "      <th>Year</th>\n",
       "      <th>Present_Price</th>\n",
       "      <th>Kms_Driven</th>\n",
       "      <th>Fuel_Type</th>\n",
       "      <th>Seller_Type</th>\n",
       "      <th>Transmission</th>\n",
       "      <th>Owner</th>\n",
       "      <th>Selling_Price</th>\n",
       "    </tr>\n",
       "  </thead>\n",
       "  <tbody>\n",
       "    <tr>\n",
       "      <th>0</th>\n",
       "      <td>ritz</td>\n",
       "      <td>2014</td>\n",
       "      <td>5.59</td>\n",
       "      <td>27000</td>\n",
       "      <td>Petrol</td>\n",
       "      <td>Dealer</td>\n",
       "      <td>Manual</td>\n",
       "      <td>0</td>\n",
       "      <td>3.35</td>\n",
       "    </tr>\n",
       "    <tr>\n",
       "      <th>1</th>\n",
       "      <td>sx4</td>\n",
       "      <td>2013</td>\n",
       "      <td>9.54</td>\n",
       "      <td>43000</td>\n",
       "      <td>Diesel</td>\n",
       "      <td>Dealer</td>\n",
       "      <td>Manual</td>\n",
       "      <td>0</td>\n",
       "      <td>4.75</td>\n",
       "    </tr>\n",
       "    <tr>\n",
       "      <th>2</th>\n",
       "      <td>ciaz</td>\n",
       "      <td>2017</td>\n",
       "      <td>9.85</td>\n",
       "      <td>6900</td>\n",
       "      <td>Petrol</td>\n",
       "      <td>Dealer</td>\n",
       "      <td>Manual</td>\n",
       "      <td>0</td>\n",
       "      <td>7.25</td>\n",
       "    </tr>\n",
       "  </tbody>\n",
       "</table>\n",
       "</div>"
      ],
      "text/plain": [
       "  Car_Name  Year  Present_Price  Kms_Driven Fuel_Type Seller_Type  \\\n",
       "0     ritz  2014           5.59       27000    Petrol      Dealer   \n",
       "1      sx4  2013           9.54       43000    Diesel      Dealer   \n",
       "2     ciaz  2017           9.85        6900    Petrol      Dealer   \n",
       "\n",
       "  Transmission  Owner  Selling_Price  \n",
       "0       Manual      0           3.35  \n",
       "1       Manual      0           4.75  \n",
       "2       Manual      0           7.25  "
      ]
     },
     "execution_count": 5,
     "metadata": {},
     "output_type": "execute_result"
    }
   ],
   "source": [
    "dataset.head(3)      "
   ]
  },
  {
   "cell_type": "markdown",
   "id": "21ade227-579c-42af-bf25-d37c69cdfa22",
   "metadata": {},
   "source": [
    "# Car_name"
   ]
  },
  {
   "cell_type": "code",
   "execution_count": 6,
   "id": "429afe87-cd40-4278-ba0a-4428ed972623",
   "metadata": {},
   "outputs": [],
   "source": [
    "# Using Label Encoding - Label Encoding is a technique used to convert categorical data (like names, colors, or categories)\n",
    "# into numerical values so that machine learning models can process them.\n",
    "\n",
    "Car_Name_le = LabelEncoder()\n",
    "dataset['Car_Name'] = Car_Name_le.fit_transform(dataset[\"Car_Name\"])"
   ]
  },
  {
   "cell_type": "markdown",
   "id": "76881b7d-b818-4c42-a899-33a1f0940e18",
   "metadata": {},
   "source": [
    "# Fuel_Type"
   ]
  },
  {
   "cell_type": "code",
   "execution_count": 7,
   "id": "c9fc0cbb-0849-456b-8889-44679422fbce",
   "metadata": {},
   "outputs": [
    {
     "data": {
      "text/plain": [
       "array(['Petrol', 'Diesel', 'CNG'], dtype=object)"
      ]
     },
     "execution_count": 7,
     "metadata": {},
     "output_type": "execute_result"
    }
   ],
   "source": [
    "dataset['Fuel_Type'].unique()"
   ]
  },
  {
   "cell_type": "code",
   "execution_count": 8,
   "id": "ea8e14e7-3833-4138-b67b-154c7c5ec34c",
   "metadata": {},
   "outputs": [],
   "source": [
    "Fuel_Type_le = LabelEncoder()\n",
    "dataset['Fuel_Type'] = Fuel_Type_le.fit_transform(dataset[\"Fuel_Type\"])"
   ]
  },
  {
   "cell_type": "code",
   "execution_count": null,
   "id": "48018c33-f7e6-4ef5-aa67-62c0309bf09b",
   "metadata": {},
   "outputs": [],
   "source": []
  },
  {
   "cell_type": "markdown",
   "id": "450899aa-7e83-47a5-8f78-c6b4a6474589",
   "metadata": {},
   "source": [
    "# Seller_Type"
   ]
  },
  {
   "cell_type": "code",
   "execution_count": 9,
   "id": "d6668e8b-2126-47f9-b5ca-5f30fd2d1811",
   "metadata": {},
   "outputs": [
    {
     "data": {
      "text/plain": [
       "array([2, 1, 0])"
      ]
     },
     "execution_count": 9,
     "metadata": {},
     "output_type": "execute_result"
    }
   ],
   "source": [
    "dataset['Fuel_Type'].unique()"
   ]
  },
  {
   "cell_type": "code",
   "execution_count": 10,
   "id": "fc1a1796-e626-44b1-b50f-ff48ac07034d",
   "metadata": {},
   "outputs": [],
   "source": [
    "Seller_Type_le = LabelEncoder()\n",
    "dataset['Seller_Type'] = Seller_Type_le.fit_transform(dataset[\"Seller_Type\"])"
   ]
  },
  {
   "cell_type": "code",
   "execution_count": null,
   "id": "7d87bfea-82cc-4464-9243-89b9c115d3d7",
   "metadata": {},
   "outputs": [],
   "source": []
  },
  {
   "cell_type": "markdown",
   "id": "641ac983-47e0-4e07-885e-0063f61cb64e",
   "metadata": {},
   "source": [
    "# Transmission\t"
   ]
  },
  {
   "cell_type": "code",
   "execution_count": 11,
   "id": "b07189ec-8d96-47fb-b2ab-381b8a97ef60",
   "metadata": {},
   "outputs": [],
   "source": [
    "Transmission_le = LabelEncoder()\n",
    "dataset['Transmission'] = Transmission_le.fit_transform(dataset[\"Transmission\"])"
   ]
  },
  {
   "cell_type": "code",
   "execution_count": 12,
   "id": "4d8a6f9a-6371-4b63-ac33-14557d0bdc56",
   "metadata": {},
   "outputs": [
    {
     "data": {
      "text/html": [
       "<div>\n",
       "<style scoped>\n",
       "    .dataframe tbody tr th:only-of-type {\n",
       "        vertical-align: middle;\n",
       "    }\n",
       "\n",
       "    .dataframe tbody tr th {\n",
       "        vertical-align: top;\n",
       "    }\n",
       "\n",
       "    .dataframe thead th {\n",
       "        text-align: right;\n",
       "    }\n",
       "</style>\n",
       "<table border=\"1\" class=\"dataframe\">\n",
       "  <thead>\n",
       "    <tr style=\"text-align: right;\">\n",
       "      <th></th>\n",
       "      <th>Car_Name</th>\n",
       "      <th>Year</th>\n",
       "      <th>Present_Price</th>\n",
       "      <th>Kms_Driven</th>\n",
       "      <th>Fuel_Type</th>\n",
       "      <th>Seller_Type</th>\n",
       "      <th>Transmission</th>\n",
       "      <th>Owner</th>\n",
       "      <th>Selling_Price</th>\n",
       "    </tr>\n",
       "  </thead>\n",
       "  <tbody>\n",
       "    <tr>\n",
       "      <th>0</th>\n",
       "      <td>28</td>\n",
       "      <td>2014</td>\n",
       "      <td>5.59</td>\n",
       "      <td>27000</td>\n",
       "      <td>2</td>\n",
       "      <td>0</td>\n",
       "      <td>1</td>\n",
       "      <td>0</td>\n",
       "      <td>3.35</td>\n",
       "    </tr>\n",
       "    <tr>\n",
       "      <th>1</th>\n",
       "      <td>31</td>\n",
       "      <td>2013</td>\n",
       "      <td>9.54</td>\n",
       "      <td>43000</td>\n",
       "      <td>1</td>\n",
       "      <td>0</td>\n",
       "      <td>1</td>\n",
       "      <td>0</td>\n",
       "      <td>4.75</td>\n",
       "    </tr>\n",
       "    <tr>\n",
       "      <th>2</th>\n",
       "      <td>6</td>\n",
       "      <td>2017</td>\n",
       "      <td>9.85</td>\n",
       "      <td>6900</td>\n",
       "      <td>2</td>\n",
       "      <td>0</td>\n",
       "      <td>1</td>\n",
       "      <td>0</td>\n",
       "      <td>7.25</td>\n",
       "    </tr>\n",
       "  </tbody>\n",
       "</table>\n",
       "</div>"
      ],
      "text/plain": [
       "   Car_Name  Year  Present_Price  Kms_Driven  Fuel_Type  Seller_Type  \\\n",
       "0        28  2014           5.59       27000          2            0   \n",
       "1        31  2013           9.54       43000          1            0   \n",
       "2         6  2017           9.85        6900          2            0   \n",
       "\n",
       "   Transmission  Owner  Selling_Price  \n",
       "0             1      0           3.35  \n",
       "1             1      0           4.75  \n",
       "2             1      0           7.25  "
      ]
     },
     "execution_count": 12,
     "metadata": {},
     "output_type": "execute_result"
    }
   ],
   "source": [
    "dataset.head(3)"
   ]
  },
  {
   "cell_type": "code",
   "execution_count": 13,
   "id": "892fbd06-3834-45e8-8707-0e607fe3961c",
   "metadata": {},
   "outputs": [
    {
     "data": {
      "image/png": "[encoded data removed]",
      "text/plain": [
       "<Figure size 640x480 with 2 Axes>"
      ]
     },
     "metadata": {},
     "output_type": "display_data"
    }
   ],
   "source": [
    "sns.heatmap(data=dataset.corr(),annot=True)\n",
    "plt.show()"
   ]
  },
  {
   "cell_type": "code",
   "execution_count": null,
   "id": "624204d8-01cc-40d8-b665-920859816322",
   "metadata": {},
   "outputs": [],
   "source": []
  },
  {
   "cell_type": "code",
   "execution_count": 14,
   "id": "b40922c9-a25f-405e-a87d-781eb1e89ff0",
   "metadata": {},
   "outputs": [],
   "source": [
    "input_data = dataset.iloc[:,:-1]              # Not taking selling price\n",
    "output_data = dataset[\"Selling_Price\"]"
   ]
  },
  {
   "cell_type": "code",
   "execution_count": null,
   "id": "e7695f63-0c87-4b00-93f7-009c7741463a",
   "metadata": {},
   "outputs": [],
   "source": []
  },
  {
   "cell_type": "code",
   "execution_count": 15,
   "id": "bcf5402a-fa9f-44f8-b3fa-705cb270b0df",
   "metadata": {},
   "outputs": [],
   "source": [
    "from sklearn.preprocessing import StandardScaler"
   ]
  },
  {
   "cell_type": "code",
   "execution_count": 16,
   "id": "b30bf1c4-4655-46eb-a0f0-ea92dccc9ea0",
   "metadata": {},
   "outputs": [],
   "source": [
    "# Scalling the input data\n",
    "\n",
    "ss = StandardScaler()\n",
    "input_data = pd.DataFrame(ss.fit_transform(input_data), columns= input_data.columns)"
   ]
  },
  {
   "cell_type": "code",
   "execution_count": 17,
   "id": "f2bef91b-a6ed-4977-9c2a-ecc980ef5d74",
   "metadata": {},
   "outputs": [
    {
     "data": {
      "text/html": [
       "<div>\n",
       "<style scoped>\n",
       "    .dataframe tbody tr th:only-of-type {\n",
       "        vertical-align: middle;\n",
       "    }\n",
       "\n",
       "    .dataframe tbody tr th {\n",
       "        vertical-align: top;\n",
       "    }\n",
       "\n",
       "    .dataframe thead th {\n",
       "        text-align: right;\n",
       "    }\n",
       "</style>\n",
       "<table border=\"1\" class=\"dataframe\">\n",
       "  <thead>\n",
       "    <tr style=\"text-align: right;\">\n",
       "      <th></th>\n",
       "      <th>Car_Name</th>\n",
       "      <th>Year</th>\n",
       "      <th>Present_Price</th>\n",
       "      <th>Kms_Driven</th>\n",
       "      <th>Fuel_Type</th>\n",
       "      <th>Seller_Type</th>\n",
       "      <th>Transmission</th>\n",
       "      <th>Owner</th>\n",
       "    </tr>\n",
       "  </thead>\n",
       "  <tbody>\n",
       "    <tr>\n",
       "      <th>0</th>\n",
       "      <td>1.172550</td>\n",
       "      <td>0.142383</td>\n",
       "      <td>-0.608594</td>\n",
       "      <td>-0.526741</td>\n",
       "      <td>0.656488</td>\n",
       "      <td>-0.160128</td>\n",
       "      <td>0.42829</td>\n",
       "      <td>-0.138593</td>\n",
       "    </tr>\n",
       "    <tr>\n",
       "      <th>1</th>\n",
       "      <td>1.470026</td>\n",
       "      <td>-0.204892</td>\n",
       "      <td>-0.162655</td>\n",
       "      <td>0.058328</td>\n",
       "      <td>-1.395037</td>\n",
       "      <td>-0.160128</td>\n",
       "      <td>0.42829</td>\n",
       "      <td>-0.138593</td>\n",
       "    </tr>\n",
       "    <tr>\n",
       "      <th>2</th>\n",
       "      <td>-1.008938</td>\n",
       "      <td>1.184206</td>\n",
       "      <td>-0.127657</td>\n",
       "      <td>-1.261734</td>\n",
       "      <td>0.656488</td>\n",
       "      <td>-0.160128</td>\n",
       "      <td>0.42829</td>\n",
       "      <td>-0.138593</td>\n",
       "    </tr>\n",
       "    <tr>\n",
       "      <th>3</th>\n",
       "      <td>1.767501</td>\n",
       "      <td>-0.899441</td>\n",
       "      <td>-0.771164</td>\n",
       "      <td>-1.323898</td>\n",
       "      <td>0.656488</td>\n",
       "      <td>-0.160128</td>\n",
       "      <td>0.42829</td>\n",
       "      <td>-0.138593</td>\n",
       "    </tr>\n",
       "    <tr>\n",
       "      <th>4</th>\n",
       "      <td>1.370867</td>\n",
       "      <td>0.142383</td>\n",
       "      <td>-0.464087</td>\n",
       "      <td>0.038217</td>\n",
       "      <td>-1.395037</td>\n",
       "      <td>-0.160128</td>\n",
       "      <td>0.42829</td>\n",
       "      <td>-0.138593</td>\n",
       "    </tr>\n",
       "    <tr>\n",
       "      <th>...</th>\n",
       "      <td>...</td>\n",
       "      <td>...</td>\n",
       "      <td>...</td>\n",
       "      <td>...</td>\n",
       "      <td>...</td>\n",
       "      <td>...</td>\n",
       "      <td>...</td>\n",
       "      <td>...</td>\n",
       "    </tr>\n",
       "    <tr>\n",
       "      <th>195</th>\n",
       "      <td>-0.909780</td>\n",
       "      <td>0.836932</td>\n",
       "      <td>0.069911</td>\n",
       "      <td>-0.271212</td>\n",
       "      <td>-1.395037</td>\n",
       "      <td>-0.160128</td>\n",
       "      <td>0.42829</td>\n",
       "      <td>-0.138593</td>\n",
       "    </tr>\n",
       "    <tr>\n",
       "      <th>196</th>\n",
       "      <td>-1.207255</td>\n",
       "      <td>0.489657</td>\n",
       "      <td>-0.573596</td>\n",
       "      <td>0.679965</td>\n",
       "      <td>0.656488</td>\n",
       "      <td>-0.160128</td>\n",
       "      <td>0.42829</td>\n",
       "      <td>-0.138593</td>\n",
       "    </tr>\n",
       "    <tr>\n",
       "      <th>197</th>\n",
       "      <td>-0.909780</td>\n",
       "      <td>-1.593990</td>\n",
       "      <td>0.002173</td>\n",
       "      <td>1.701422</td>\n",
       "      <td>0.656488</td>\n",
       "      <td>-0.160128</td>\n",
       "      <td>0.42829</td>\n",
       "      <td>-0.138593</td>\n",
       "    </tr>\n",
       "    <tr>\n",
       "      <th>198</th>\n",
       "      <td>-0.909780</td>\n",
       "      <td>1.184206</td>\n",
       "      <td>0.171517</td>\n",
       "      <td>-1.184944</td>\n",
       "      <td>-1.395037</td>\n",
       "      <td>-0.160128</td>\n",
       "      <td>0.42829</td>\n",
       "      <td>-0.138593</td>\n",
       "    </tr>\n",
       "    <tr>\n",
       "      <th>199</th>\n",
       "      <td>-1.207255</td>\n",
       "      <td>0.836932</td>\n",
       "      <td>-0.573596</td>\n",
       "      <td>-1.314244</td>\n",
       "      <td>0.656488</td>\n",
       "      <td>-0.160128</td>\n",
       "      <td>0.42829</td>\n",
       "      <td>-0.138593</td>\n",
       "    </tr>\n",
       "  </tbody>\n",
       "</table>\n",
       "<p>200 rows × 8 columns</p>\n",
       "</div>"
      ],
      "text/plain": [
       "     Car_Name      Year  Present_Price  Kms_Driven  Fuel_Type  Seller_Type  \\\n",
       "0    1.172550  0.142383      -0.608594   -0.526741   0.656488    -0.160128   \n",
       "1    1.470026 -0.204892      -0.162655    0.058328  -1.395037    -0.160128   \n",
       "2   -1.008938  1.184206      -0.127657   -1.261734   0.656488    -0.160128   \n",
       "3    1.767501 -0.899441      -0.771164   -1.323898   0.656488    -0.160128   \n",
       "4    1.370867  0.142383      -0.464087    0.038217  -1.395037    -0.160128   \n",
       "..        ...       ...            ...         ...        ...          ...   \n",
       "195 -0.909780  0.836932       0.069911   -0.271212  -1.395037    -0.160128   \n",
       "196 -1.207255  0.489657      -0.573596    0.679965   0.656488    -0.160128   \n",
       "197 -0.909780 -1.593990       0.002173    1.701422   0.656488    -0.160128   \n",
       "198 -0.909780  1.184206       0.171517   -1.184944  -1.395037    -0.160128   \n",
       "199 -1.207255  0.836932      -0.573596   -1.314244   0.656488    -0.160128   \n",
       "\n",
       "     Transmission     Owner  \n",
       "0         0.42829 -0.138593  \n",
       "1         0.42829 -0.138593  \n",
       "2         0.42829 -0.138593  \n",
       "3         0.42829 -0.138593  \n",
       "4         0.42829 -0.138593  \n",
       "..            ...       ...  \n",
       "195       0.42829 -0.138593  \n",
       "196       0.42829 -0.138593  \n",
       "197       0.42829 -0.138593  \n",
       "198       0.42829 -0.138593  \n",
       "199       0.42829 -0.138593  \n",
       "\n",
       "[200 rows x 8 columns]"
      ]
     },
     "execution_count": 17,
     "metadata": {},
     "output_type": "execute_result"
    }
   ],
   "source": [
    "input_data"
   ]
  },
  {
   "cell_type": "code",
   "execution_count": null,
   "id": "fc8a24b0-a735-4ff1-ba4c-b9835f189c24",
   "metadata": {},
   "outputs": [],
   "source": []
  },
  {
   "cell_type": "code",
   "execution_count": 18,
   "id": "4685f2fa-fb34-4a5e-b0d7-d8054558bbc6",
   "metadata": {},
   "outputs": [],
   "source": [
    "from sklearn.model_selection import train_test_split"
   ]
  },
  {
   "cell_type": "code",
   "execution_count": 19,
   "id": "0833f82b-f3db-4d5c-a5ba-70c085af86dc",
   "metadata": {},
   "outputs": [],
   "source": [
    "                                # Calling train_test_split passing input and output data, trainning size\n",
    "\n",
    "x_train, x_test, y_train, y_test = train_test_split(input_data, output_data, train_size=0.2, random_state=42)"
   ]
  },
  {
   "cell_type": "code",
   "execution_count": null,
   "id": "a35de747-c3c0-4550-8ef0-c4f259097819",
   "metadata": {},
   "outputs": [],
   "source": []
  },
  {
   "cell_type": "code",
   "execution_count": 20,
   "id": "ac3ba1ac-20bc-4998-87f0-554a23654397",
   "metadata": {},
   "outputs": [],
   "source": [
    "# Supervised Learning Algorithms\n",
    "\n",
    "from sklearn.linear_model import LinearRegression, Lasso, Ridge, ElasticNet\n",
    "from sklearn.tree import DecisionTreeRegressor\n",
    "from sklearn.svm import SVR\n",
    "from sklearn.neighbors import KNeighborsRegressor\n",
    "from sklearn.ensemble import RandomForestRegressor"
   ]
  },
  {
   "cell_type": "code",
   "execution_count": 197,
   "id": "98f09da9-69bd-4c8b-9308-1b57a2a6f2ef",
   "metadata": {},
   "outputs": [],
   "source": [
    "from sklearn.metrics import mean_squared_error , mean_absolute_error"
   ]
  },
  {
   "cell_type": "code",
   "execution_count": null,
   "id": "79241331-c30e-4ab4-ba6d-e30a38844634",
   "metadata": {},
   "outputs": [],
   "source": []
  },
  {
   "cell_type": "code",
   "execution_count": 21,
   "id": "d3b74520-58a2-4767-bbfb-e8453e326345",
   "metadata": {},
   "outputs": [
    {
     "name": "stdout",
     "output_type": "stream",
     "text": [
      "(40, 8)\n",
      "(40,)\n"
     ]
    }
   ],
   "source": [
    "print(x_train.shape)  # Number of rows and columns in X_train\n",
    "print(y_train.shape)  # Number of rows in y_train\n"
   ]
  },
  {
   "cell_type": "code",
   "execution_count": null,
   "id": "5915cdcb-7c2e-4daa-9017-7b7bbcca2d91",
   "metadata": {},
   "outputs": [],
   "source": []
  },
  {
   "cell_type": "code",
   "execution_count": 22,
   "id": "3d165a51-13d7-471f-b2eb-d2572f9f81c9",
   "metadata": {},
   "outputs": [
    {
     "data": {
      "text/plain": [
       "(92.25177046034881, 83.52844197884156)"
      ]
     },
     "execution_count": 22,
     "metadata": {},
     "output_type": "execute_result"
    }
   ],
   "source": [
    "# Trying LinearRegression Technique\n",
    "\n",
    "lr = LinearRegression()\n",
    "lr.fit(x_train, y_train)\n",
    "\n",
    "train_score = lr.score(x_train, y_train) * 100  # Training R² Score\n",
    "test_score = lr.score(x_test, y_test) * 100  # Testing R² Score\n",
    "\n",
    "train_score, test_score\n"
   ]
  },
  {
   "cell_type": "code",
   "execution_count": 213,
   "id": "aea905db-3dd3-4eb0-a16a-f8efd38be2dc",
   "metadata": {},
   "outputs": [
    {
     "data": {
      "text/plain": [
       "(4.620410179484428, 1.3782187524162974)"
      ]
     },
     "execution_count": 213,
     "metadata": {},
     "output_type": "execute_result"
    }
   ],
   "source": [
    "mean_squared_error(y_test, lr.predict(x_test)), mean_absolute_error(y_test, lr.predict(x_test))"
   ]
  },
  {
   "cell_type": "code",
   "execution_count": 23,
   "id": "81045cf5-846c-4bcc-9e2e-da3b3409f7c4",
   "metadata": {},
   "outputs": [],
   "source": [
    "# lr1 = Lasso(alpha=4)\n",
    "# lr1.fit(x_train, y_train)\n",
    "\n",
    "# train_score = lr1.score(x_train, y_train) * 100  # Training R² Score\n",
    "# test_score = lr1.score(x_test, y_test) * 100  # Testing R² Score\n",
    "\n",
    "# train_score, test_score"
   ]
  },
  {
   "cell_type": "code",
   "execution_count": null,
   "id": "a5765f18-c04b-433f-832a-59c5b841345e",
   "metadata": {},
   "outputs": [],
   "source": []
  },
  {
   "cell_type": "code",
   "execution_count": 24,
   "id": "2785151b-05e2-4f9e-a0fd-47f9647cb258",
   "metadata": {},
   "outputs": [],
   "source": [
    "# Trying Ridge Technique \n",
    "\n",
    "# lr2 = Ridge(alpha=10)\n",
    "# lr2.fit(x_train, y_train)\n",
    "# lr2.score(x_train, y_train) * 100, lr2.score(x_test, y_test) * 100"
   ]
  },
  {
   "cell_type": "code",
   "execution_count": null,
   "id": "9992b70c-de9f-4780-8d87-12f4e1c934a5",
   "metadata": {},
   "outputs": [],
   "source": []
  },
  {
   "cell_type": "code",
   "execution_count": 25,
   "id": "54578f8f-f147-4bfc-8e04-34433d75a0cb",
   "metadata": {},
   "outputs": [],
   "source": [
    "# Trying ElasticNet Technique \n",
    "\n",
    "# lr3 = ElasticNet(alpha=0.5)\n",
    "# lr3.fit(x_train, y_train)\n",
    "# lr3.score(x_train, y_train) * 100, lr3.score(x_test, y_test) * 100"
   ]
  },
  {
   "cell_type": "code",
   "execution_count": null,
   "id": "2e0f006b-2d16-4433-bd62-bdb10c296880",
   "metadata": {},
   "outputs": [],
   "source": []
  },
  {
   "cell_type": "code",
   "execution_count": 194,
   "id": "b8de99f6-6b07-4188-ba7e-a5240a4ea29a",
   "metadata": {},
   "outputs": [
    {
     "data": {
      "text/plain": [
       "(100.0, 70.34338455865795)"
      ]
     },
     "execution_count": 194,
     "metadata": {},
     "output_type": "execute_result"
    }
   ],
   "source": [
    "# Decision Tree Technique\n",
    "\n",
    "dt = DecisionTreeRegressor()\n",
    "dt.fit(x_train, y_train)\n",
    "\n",
    "train_score = dt.score(x_train, y_train) * 100  # Training R² Score\n",
    "test_score = dt.score(x_test, y_test) * 100  # Testing R² Score\n",
    "\n",
    "train_score, test_score"
   ]
  },
  {
   "cell_type": "code",
   "execution_count": 205,
   "id": "ddbf4dca-a182-40e2-962d-0aefbaf404d7",
   "metadata": {},
   "outputs": [
    {
     "data": {
      "text/plain": [
       "(9.835659375000002, 1.8336875000000004)"
      ]
     },
     "execution_count": 205,
     "metadata": {},
     "output_type": "execute_result"
    }
   ],
   "source": [
    "mean_squared_error(y_test, dt.predict(x_test)), mean_absolute_error(y_test, dt.predict(x_test))"
   ]
  },
  {
   "cell_type": "code",
   "execution_count": 210,
   "id": "f7dfb85d-fb77-420b-aaee-ebfb00ad134a",
   "metadata": {},
   "outputs": [
    {
     "name": "stderr",
     "output_type": "stream",
     "text": [
      "C:\\Users\\alimo\\AppData\\Local\\Programs\\Python\\Python313\\Lib\\site-packages\\sklearn\\utils\\validation.py:2739: UserWarning: X does not have valid feature names, but RandomForestRegressor was fitted with feature names\n",
      "  warnings.warn(\n"
     ]
    },
    {
     "data": {
      "text/plain": [
       "array([8.045])"
      ]
     },
     "execution_count": 210,
     "metadata": {},
     "output_type": "execute_result"
    }
   ],
   "source": [
    "rf.predict([[-0.711463, -0.552167, 0.861311, 1.118767, 0.656488, -0.160128, 0.428290, -0.138593]])"
   ]
  },
  {
   "cell_type": "code",
   "execution_count": 211,
   "id": "99e7f2f4-e25a-4786-a59c-506dce7873f3",
   "metadata": {},
   "outputs": [
    {
     "data": {
      "text/plain": [
       "95      5.85\n",
       "15      7.75\n",
       "30      3.10\n",
       "158     3.90\n",
       "128     3.10\n",
       "       ...  \n",
       "59     19.99\n",
       "171     7.50\n",
       "131    11.45\n",
       "17      7.75\n",
       "72      7.45\n",
       "Name: Selling_Price, Length: 160, dtype: float64"
      ]
     },
     "execution_count": 211,
     "metadata": {},
     "output_type": "execute_result"
    }
   ],
   "source": [
    "y_test"
   ]
  },
  {
   "cell_type": "code",
   "execution_count": 208,
   "id": "4f4312d1-f056-4fbc-8ccf-96e5d701df2c",
   "metadata": {},
   "outputs": [
    {
     "data": {
      "text/html": [
       "<div>\n",
       "<style scoped>\n",
       "    .dataframe tbody tr th:only-of-type {\n",
       "        vertical-align: middle;\n",
       "    }\n",
       "\n",
       "    .dataframe tbody tr th {\n",
       "        vertical-align: top;\n",
       "    }\n",
       "\n",
       "    .dataframe thead th {\n",
       "        text-align: right;\n",
       "    }\n",
       "</style>\n",
       "<table border=\"1\" class=\"dataframe\">\n",
       "  <thead>\n",
       "    <tr style=\"text-align: right;\">\n",
       "      <th></th>\n",
       "      <th>Car_Name</th>\n",
       "      <th>Year</th>\n",
       "      <th>Present_Price</th>\n",
       "      <th>Kms_Driven</th>\n",
       "      <th>Fuel_Type</th>\n",
       "      <th>Seller_Type</th>\n",
       "      <th>Transmission</th>\n",
       "      <th>Owner</th>\n",
       "    </tr>\n",
       "  </thead>\n",
       "  <tbody>\n",
       "    <tr>\n",
       "      <th>95</th>\n",
       "      <td>-0.711463</td>\n",
       "      <td>-0.552167</td>\n",
       "      <td>0.861311</td>\n",
       "      <td>1.118767</td>\n",
       "      <td>0.656488</td>\n",
       "      <td>-0.160128</td>\n",
       "      <td>0.428290</td>\n",
       "      <td>-0.138593</td>\n",
       "    </tr>\n",
       "    <tr>\n",
       "      <th>15</th>\n",
       "      <td>-0.215670</td>\n",
       "      <td>0.836932</td>\n",
       "      <td>-0.021535</td>\n",
       "      <td>0.058328</td>\n",
       "      <td>-1.395037</td>\n",
       "      <td>-0.160128</td>\n",
       "      <td>0.428290</td>\n",
       "      <td>-0.138593</td>\n",
       "    </tr>\n",
       "    <tr>\n",
       "      <th>30</th>\n",
       "      <td>1.172550</td>\n",
       "      <td>-0.552167</td>\n",
       "      <td>-0.564564</td>\n",
       "      <td>0.366916</td>\n",
       "      <td>-1.395037</td>\n",
       "      <td>-0.160128</td>\n",
       "      <td>0.428290</td>\n",
       "      <td>-0.138593</td>\n",
       "    </tr>\n",
       "    <tr>\n",
       "      <th>158</th>\n",
       "      <td>-1.405572</td>\n",
       "      <td>0.142383</td>\n",
       "      <td>-0.449410</td>\n",
       "      <td>-0.195665</td>\n",
       "      <td>0.656488</td>\n",
       "      <td>-0.160128</td>\n",
       "      <td>0.428290</td>\n",
       "      <td>-0.138593</td>\n",
       "    </tr>\n",
       "    <tr>\n",
       "      <th>128</th>\n",
       "      <td>0.577599</td>\n",
       "      <td>-0.552167</td>\n",
       "      <td>-0.473119</td>\n",
       "      <td>0.392257</td>\n",
       "      <td>-1.395037</td>\n",
       "      <td>-0.160128</td>\n",
       "      <td>0.428290</td>\n",
       "      <td>-0.138593</td>\n",
       "    </tr>\n",
       "    <tr>\n",
       "      <th>...</th>\n",
       "      <td>...</td>\n",
       "      <td>...</td>\n",
       "      <td>...</td>\n",
       "      <td>...</td>\n",
       "      <td>...</td>\n",
       "      <td>...</td>\n",
       "      <td>...</td>\n",
       "      <td>...</td>\n",
       "    </tr>\n",
       "    <tr>\n",
       "      <th>59</th>\n",
       "      <td>0.280123</td>\n",
       "      <td>0.142383</td>\n",
       "      <td>2.820055</td>\n",
       "      <td>-0.014805</td>\n",
       "      <td>-1.395037</td>\n",
       "      <td>-0.160128</td>\n",
       "      <td>-2.334869</td>\n",
       "      <td>-0.138593</td>\n",
       "    </tr>\n",
       "    <tr>\n",
       "      <th>171</th>\n",
       "      <td>-0.909780</td>\n",
       "      <td>0.489657</td>\n",
       "      <td>-0.110723</td>\n",
       "      <td>-0.504801</td>\n",
       "      <td>0.656488</td>\n",
       "      <td>-0.160128</td>\n",
       "      <td>0.428290</td>\n",
       "      <td>-0.138593</td>\n",
       "    </tr>\n",
       "    <tr>\n",
       "      <th>131</th>\n",
       "      <td>-0.413987</td>\n",
       "      <td>0.489657</td>\n",
       "      <td>0.430049</td>\n",
       "      <td>-1.042333</td>\n",
       "      <td>0.656488</td>\n",
       "      <td>-0.160128</td>\n",
       "      <td>-2.334869</td>\n",
       "      <td>-0.138593</td>\n",
       "    </tr>\n",
       "    <tr>\n",
       "      <th>17</th>\n",
       "      <td>-0.215670</td>\n",
       "      <td>0.836932</td>\n",
       "      <td>-0.021535</td>\n",
       "      <td>0.058328</td>\n",
       "      <td>-1.395037</td>\n",
       "      <td>-0.160128</td>\n",
       "      <td>0.428290</td>\n",
       "      <td>-0.138593</td>\n",
       "    </tr>\n",
       "    <tr>\n",
       "      <th>72</th>\n",
       "      <td>-0.711463</td>\n",
       "      <td>-0.204892</td>\n",
       "      <td>0.861311</td>\n",
       "      <td>0.533734</td>\n",
       "      <td>0.656488</td>\n",
       "      <td>-0.160128</td>\n",
       "      <td>0.428290</td>\n",
       "      <td>-0.138593</td>\n",
       "    </tr>\n",
       "  </tbody>\n",
       "</table>\n",
       "<p>160 rows × 8 columns</p>\n",
       "</div>"
      ],
      "text/plain": [
       "     Car_Name      Year  Present_Price  Kms_Driven  Fuel_Type  Seller_Type  \\\n",
       "95  -0.711463 -0.552167       0.861311    1.118767   0.656488    -0.160128   \n",
       "15  -0.215670  0.836932      -0.021535    0.058328  -1.395037    -0.160128   \n",
       "30   1.172550 -0.552167      -0.564564    0.366916  -1.395037    -0.160128   \n",
       "158 -1.405572  0.142383      -0.449410   -0.195665   0.656488    -0.160128   \n",
       "128  0.577599 -0.552167      -0.473119    0.392257  -1.395037    -0.160128   \n",
       "..        ...       ...            ...         ...        ...          ...   \n",
       "59   0.280123  0.142383       2.820055   -0.014805  -1.395037    -0.160128   \n",
       "171 -0.909780  0.489657      -0.110723   -0.504801   0.656488    -0.160128   \n",
       "131 -0.413987  0.489657       0.430049   -1.042333   0.656488    -0.160128   \n",
       "17  -0.215670  0.836932      -0.021535    0.058328  -1.395037    -0.160128   \n",
       "72  -0.711463 -0.204892       0.861311    0.533734   0.656488    -0.160128   \n",
       "\n",
       "     Transmission     Owner  \n",
       "95       0.428290 -0.138593  \n",
       "15       0.428290 -0.138593  \n",
       "30       0.428290 -0.138593  \n",
       "158      0.428290 -0.138593  \n",
       "128      0.428290 -0.138593  \n",
       "..            ...       ...  \n",
       "59      -2.334869 -0.138593  \n",
       "171      0.428290 -0.138593  \n",
       "131     -2.334869 -0.138593  \n",
       "17       0.428290 -0.138593  \n",
       "72       0.428290 -0.138593  \n",
       "\n",
       "[160 rows x 8 columns]"
      ]
     },
     "execution_count": 208,
     "metadata": {},
     "output_type": "execute_result"
    }
   ],
   "source": [
    "x_test"
   ]
  },
  {
   "cell_type": "code",
   "execution_count": null,
   "id": "b2b7e96c-7959-4ed7-b6f9-e3c6f55ef6b0",
   "metadata": {},
   "outputs": [],
   "source": []
  },
  {
   "cell_type": "code",
   "execution_count": 214,
   "id": "48498412-eea4-46ef-baf1-fc1b31074fcf",
   "metadata": {},
   "outputs": [],
   "source": [
    "new_data= pd.DataFrame([['ritz', 2014, 5.59, 27000, 'Petrol', 'Dealer', 'Manual', 0]],columns= x_train.columns)\n"
   ]
  },
  {
   "cell_type": "code",
   "execution_count": 224,
   "id": "9fb8b6f2-fd15-45e7-8267-62f885e8274a",
   "metadata": {},
   "outputs": [
    {
     "data": {
      "text/html": [
       "<div>\n",
       "<style scoped>\n",
       "    .dataframe tbody tr th:only-of-type {\n",
       "        vertical-align: middle;\n",
       "    }\n",
       "\n",
       "    .dataframe tbody tr th {\n",
       "        vertical-align: top;\n",
       "    }\n",
       "\n",
       "    .dataframe thead th {\n",
       "        text-align: right;\n",
       "    }\n",
       "</style>\n",
       "<table border=\"1\" class=\"dataframe\">\n",
       "  <thead>\n",
       "    <tr style=\"text-align: right;\">\n",
       "      <th></th>\n",
       "      <th>Car_Name</th>\n",
       "      <th>Year</th>\n",
       "      <th>Present_Price</th>\n",
       "      <th>Kms_Driven</th>\n",
       "      <th>Fuel_Type</th>\n",
       "      <th>Seller_Type</th>\n",
       "      <th>Transmission</th>\n",
       "      <th>Owner</th>\n",
       "    </tr>\n",
       "  </thead>\n",
       "  <tbody>\n",
       "    <tr>\n",
       "      <th>0</th>\n",
       "      <td>1.17255</td>\n",
       "      <td>0.142383</td>\n",
       "      <td>-0.608594</td>\n",
       "      <td>-0.526741</td>\n",
       "      <td>0.656488</td>\n",
       "      <td>-0.160128</td>\n",
       "      <td>0.42829</td>\n",
       "      <td>-0.138593</td>\n",
       "    </tr>\n",
       "  </tbody>\n",
       "</table>\n",
       "</div>"
      ],
      "text/plain": [
       "   Car_Name      Year  Present_Price  Kms_Driven  Fuel_Type  Seller_Type  \\\n",
       "0   1.17255  0.142383      -0.608594   -0.526741   0.656488    -0.160128   \n",
       "\n",
       "   Transmission     Owner  \n",
       "0       0.42829 -0.138593  "
      ]
     },
     "execution_count": 224,
     "metadata": {},
     "output_type": "execute_result"
    }
   ],
   "source": [
    "new_data                  "
   ]
  },
  {
   "cell_type": "code",
   "execution_count": 225,
   "id": "07cb76cb-0e1b-42db-a7a2-6a51226aec06",
   "metadata": {},
   "outputs": [
    {
     "data": {
      "text/plain": [
       "array([4.5596])"
      ]
     },
     "execution_count": 225,
     "metadata": {},
     "output_type": "execute_result"
    }
   ],
   "source": [
    "rf.predict(new_data)"
   ]
  },
  {
   "cell_type": "code",
   "execution_count": 217,
   "id": "98bd0d65-cdb3-490d-8714-540ee37ee115",
   "metadata": {},
   "outputs": [],
   "source": [
    "new_data['Car_Name'] = Car_Name_le.transform(new_data[\"Car_Name\"])"
   ]
  },
  {
   "cell_type": "code",
   "execution_count": 218,
   "id": "62b7ae07-efb3-4a82-8ea2-17672439ef9d",
   "metadata": {},
   "outputs": [],
   "source": [
    "new_data['Fuel_Type'] = Fuel_Type_le.transform(new_data[\"Fuel_Type\"])"
   ]
  },
  {
   "cell_type": "code",
   "execution_count": 219,
   "id": "408738e3-5db9-4035-b996-b98007759e54",
   "metadata": {},
   "outputs": [],
   "source": [
    "new_data['Seller_Type'] = Seller_Type_le.transform(new_data[\"Seller_Type\"])"
   ]
  },
  {
   "cell_type": "code",
   "execution_count": 220,
   "id": "72075c3f-3afd-4f07-97fc-2ebbb3a23e90",
   "metadata": {},
   "outputs": [],
   "source": [
    "new_data['Transmission'] = Transmission_le.transform(new_data[\"Transmission\"])"
   ]
  },
  {
   "cell_type": "code",
   "execution_count": 223,
   "id": "a2ea3076-9a3a-4935-8bfb-0b506476b6f4",
   "metadata": {},
   "outputs": [],
   "source": [
    "new_data = pd.DataFrame(ss.transform(new_data), columns=new_data.columns)   # Scailling new_data"
   ]
  },
  {
   "cell_type": "code",
   "execution_count": null,
   "id": "680cfe63-3d1f-4c4b-9544-b8c924aeb1f8",
   "metadata": {},
   "outputs": [],
   "source": []
  },
  {
   "cell_type": "code",
   "execution_count": null,
   "id": "50fb233b-402d-44f0-9d56-31b5b1c84134",
   "metadata": {},
   "outputs": [],
   "source": []
  },
  {
   "cell_type": "code",
   "execution_count": 200,
   "id": "710dce4c-e130-4f10-86cd-f668001515b3",
   "metadata": {},
   "outputs": [
    {
     "data": {
      "text/plain": [
       "(95.47125908384042, 74.16290964914816)"
      ]
     },
     "execution_count": 200,
     "metadata": {},
     "output_type": "execute_result"
    }
   ],
   "source": [
    "# # Trying Ridge Technique \n",
    "\n",
    "# rf = RandomForestRegressor(n_estimators=100)\n",
    "# rf.fit(x_train, y_train)\n",
    "# rf.score(x_train, y_train) * 100, rf.score(x_test, y_test) * 100"
   ]
  },
  {
   "cell_type": "code",
   "execution_count": 206,
   "id": "140d8179-3b36-42ae-9e95-f5fd307aa326",
   "metadata": {},
   "outputs": [
    {
     "data": {
      "text/plain": [
       "(7.2475205509999965, 1.4368874999999992)"
      ]
     },
     "execution_count": 206,
     "metadata": {},
     "output_type": "execute_result"
    }
   ],
   "source": [
    "# mean_squared_error(y_test, rf.predict(x_test)), mean_absolute_error(y_test, rf.predict(x_test))"
   ]
  },
  {
   "cell_type": "code",
   "execution_count": null,
   "id": "8ab0cba0-9453-4aa0-b5ac-2b2bb8d95d8a",
   "metadata": {},
   "outputs": [],
   "source": []
  },
  {
   "cell_type": "code",
   "execution_count": 31,
   "id": "08106d5c-85c2-47b7-8667-624dc144aef4",
   "metadata": {},
   "outputs": [
    {
     "data": {
      "text/plain": [
       "(26.840991170791227, 13.386140596447804)"
      ]
     },
     "execution_count": 31,
     "metadata": {},
     "output_type": "execute_result"
    }
   ],
   "source": [
    "# sv = SVR()\n",
    "# sv.fit(x_train, y_train)\n",
    "# sv.score(x_train, y_train) * 100, sv.score(x_test, y_test) * 100"
   ]
  },
  {
   "cell_type": "code",
   "execution_count": 33,
   "id": "d2ceb6bf-2209-475a-a6cf-f94147719daa",
   "metadata": {},
   "outputs": [
    {
     "data": {
      "text/plain": [
       "(28.13596853922804, 18.593061973084644)"
      ]
     },
     "execution_count": 33,
     "metadata": {},
     "output_type": "execute_result"
    }
   ],
   "source": [
    "# knn = KNeighborsRegressor(n_neighbors=20)\n",
    "# knn.fit(x_train, y_train)\n",
    "# knn.score(x_train, y_train) * 100, knn.score(x_test, y_test) * 100"
   ]
  },
  {
   "cell_type": "code",
   "execution_count": 207,
   "id": "b22b9c04-acbf-473a-b524-51a4599df0bd",
   "metadata": {},
   "outputs": [
    {
     "data": {
      "text/plain": [
       "(22.8353289140625, 2.888165625)"
      ]
     },
     "execution_count": 207,
     "metadata": {},
     "output_type": "execute_result"
    }
   ],
   "source": [
    "# mean_squared_error(y_test, knn.predict(x_test)), mean_absolute_error(y_test, knn.predict(x_test))"
   ]
  },
  {
   "cell_type": "code",
   "execution_count": null,
   "id": "5b1dd067-559a-44f3-9e60-47718671a444",
   "metadata": {},
   "outputs": [],
   "source": []
  },
  {
   "cell_type": "code",
   "execution_count": null,
   "id": "c4bd5eb4-4824-4742-ae4c-b5ff45a2218b",
   "metadata": {},
   "outputs": [],
   "source": []
  },
  {
   "cell_type": "code",
   "execution_count": null,
   "id": "9898fac0-9d67-4784-9333-a7d56b89169c",
   "metadata": {},
   "outputs": [],
   "source": []
  },
  {
   "cell_type": "code",
   "execution_count": null,
   "id": "48842474-7a67-4749-85fa-23543549e5eb",
   "metadata": {},
   "outputs": [],
   "source": []
  },
  {
   "cell_type": "code",
   "execution_count": null,
   "id": "2d57e369-89b2-4f22-b75a-d54dee663af6",
   "metadata": {},
   "outputs": [],
   "source": []
  },
  {
   "cell_type": "code",
   "execution_count": null,
   "id": "00189337-0df1-4c2c-8d2c-343ed6141bc3",
   "metadata": {},
   "outputs": [],
   "source": []
  }
 ],
 "metadata": {
  "kernelspec": {
   "display_name": "Python 3 (ipykernel)",
   "language": "python",
   "name": "python3"
  },
  "language_info": {
   "codemirror_mode": {
    "name": "ipython",
    "version": 3
   },
   "file_extension": ".py",
   "mimetype": "text/x-python",
   "name": "python",
   "nbconvert_exporter": "python",
   "pygments_lexer": "ipython3",
   "version": "3.13.1"
  }
 },
 "nbformat": 4,
 "nbformat_minor": 5
}
